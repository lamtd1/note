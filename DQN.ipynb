{
 "cells": [
  {
   "cell_type": "code",
   "execution_count": 1,
   "id": "a74fc0b3",
   "metadata": {},
   "outputs": [],
   "source": [
    "import torch\n",
    "import torch.nn as nn\n",
    "import torch.nn.functional as F\n",
    "import torch.optim as optim\n",
    "\n",
    "import gymnasium as gym\n",
    "\n",
    "import random\n",
    "import math\n",
    "import numpy as np\n",
    "\n",
    "from collections import deque"
   ]
  },
  {
   "cell_type": "code",
   "execution_count": 45,
   "id": "249e6a26",
   "metadata": {},
   "outputs": [],
   "source": [
    "class ReplayBuffer:\n",
    "    def __init__(self, capacity):\n",
    "        self.memory = deque([], maxlen=capacity)\n",
    "\n",
    "    def push(self, state, action, reward, next_state, done):\n",
    "        experience_tuple = (state, action, reward, next_state, done)\n",
    "        self.memory.append(experience_tuple)\n",
    "\n",
    "    def __len__(self):\n",
    "        return len(self.memory)\n",
    "\n",
    "    def sample(self, batch_size):\n",
    "        batch = random.sample(self.memory, batch_size) \n",
    "        states, actions, rewards, next_states, dones = zip(*batch) \n",
    "\n",
    "        states_tensor = torch.tensor(states, dtype=torch.float32).reshape(batch_size, -1)\n",
    "        rewards_tensor = torch.tensor(rewards, dtype=torch.float32).reshape(batch_size)\n",
    "        next_states_tensor = torch.tensor(next_states, dtype=torch.float32).reshape(batch_size, -1)\n",
    "        dones_tensor = torch.tensor(dones, dtype=torch.float32).reshape(batch_size)\n",
    "        # Giữ action là tensor (batch_size, 1) để sử dụng luôn hàm .gather của torch\n",
    "        actions_tensor = torch.tensor(actions, dtype=torch.long).reshape(batch_size, -1)\n",
    "\n",
    "        return states_tensor, actions_tensor, rewards_tensor, next_states_tensor, dones_tensor"
   ]
  },
  {
   "cell_type": "code",
   "execution_count": 35,
   "id": "429c10d6",
   "metadata": {},
   "outputs": [],
   "source": [
    "class QNetwork(nn.Module):\n",
    "    def __init__(self, state_dims, action_dims):\n",
    "        super().__init__()\n",
    "        self.fc1 = nn.Linear(state_dims, 64)\n",
    "        self.fc2 = nn.Linear(64, 64)\n",
    "        self.fc3 = nn.Linear(64, action_dims)\n",
    "\n",
    "    def forward(self, x):\n",
    "        x = F.relu(self.fc1(x))\n",
    "        x = F.relu(self.fc2(x))\n",
    "        return self.fc3(x)"
   ]
  },
  {
   "cell_type": "code",
   "execution_count": 15,
   "id": "2ce4d5dc",
   "metadata": {},
   "outputs": [],
   "source": [
    "env = gym.make(\"LunarLander-v2\")"
   ]
  },
  {
   "cell_type": "code",
   "execution_count": 36,
   "id": "0a8a69e6",
   "metadata": {},
   "outputs": [],
   "source": [
    "def select_action(q_values, step, start, end, decay):\n",
    "    epsilon = (\n",
    "        end + (start - end) * math.exp(-step / decay)\n",
    "    )\n",
    "    if random.random() < epsilon:\n",
    "        return random.randint(0, len(q_values) - 1)\n",
    "    return torch.argmax(q_values).item()"
   ]
  },
  {
   "cell_type": "code",
   "execution_count": 48,
   "id": "f81928ed",
   "metadata": {},
   "outputs": [],
   "source": [
    "def soft_update(target, online, tau):\n",
    "    for target_param, online_param in zip(target.parameters(), online.parameters()):\n",
    "        target_param.data.copy_(tau * online_param.data + (1.0 - tau) * target_param.data)"
   ]
  },
  {
   "cell_type": "code",
   "execution_count": null,
   "id": "f1ab5805",
   "metadata": {},
   "outputs": [],
   "source": [
    "replay_buffer = ReplayBuffer(1000)\n",
    "\n",
    "online_network = QNetwork(8, 4)\n",
    "target_network = QNetwork(8, 4)\n",
    "target_network.load_state_dict(online_network.state_dict())\n",
    "optimizer = optim.Adam(online_network.parameters(), lr=0.0001)\n",
    "\n",
    "batch_size = 64\n",
    "gamma = 0.99\n",
    "tau = 0.005\n",
    "\n",
    "global_step = 0\n",
    "update_every = 4\n",
    "\n",
    "for episode in range(100):\n",
    "    state, info = env.reset()\n",
    "    done = False\n",
    "    while not done:\n",
    "        # a_t = argmax_a Q_online_policy(s_t, a_t)\n",
    "        q_values = online_network(torch.tensor(state, dtype=torch.float32))\n",
    "        action = select_action(q_values, global_step, start=0.9, end=0.05, decay=1000)\n",
    "\n",
    "        next_state, reward, terminated, truncated, _ = env.step(action)\n",
    "        done = terminated or truncated\n",
    "        replay_buffer.push(state, action, reward, next_state, done)\n",
    "\n",
    "        if len(replay_buffer) >= batch_size:\n",
    "            states, actions, rewards, next_states, dones = replay_buffer.sample(batch_size)\n",
    "            # Q_online_policy(s_t, a_t)\n",
    "            q_values = online_network(states).gather(1, actions).reshape(batch_size)\n",
    "            with torch.no_grad():\n",
    "                \n",
    "                # max_{a_t+1} Q_target_policy (s_t+1, a_t+1)\n",
    "                next_q_values = target_network(next_states).amax(dim=1)\n",
    "                target_q_values = (rewards + gamma * next_q_values* (1 - dones)).reshape(batch_size)\n",
    "\n",
    "            loss = nn.MSELoss()(q_values, target_q_values)\n",
    "\n",
    "            optimizer.zero_grad()\n",
    "            loss.backward()\n",
    "            optimizer.step()\n",
    "            if global_step % update_every == 0:\n",
    "                \n",
    "                soft_update(target_network, online_network, tau=0.005)\n",
    "\n",
    "        state = next_state\n",
    "        global_step += 1"
   ]
  }
 ],
 "metadata": {
  "kernelspec": {
   "display_name": "MovableAntenna",
   "language": "python",
   "name": "python3"
  },
  "language_info": {
   "codemirror_mode": {
    "name": "ipython",
    "version": 3
   },
   "file_extension": ".py",
   "mimetype": "text/x-python",
   "name": "python",
   "nbconvert_exporter": "python",
   "pygments_lexer": "ipython3",
   "version": "3.10.14"
  }
 },
 "nbformat": 4,
 "nbformat_minor": 5
}
