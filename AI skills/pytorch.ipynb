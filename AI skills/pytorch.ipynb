{
 "cells": [
  {
   "cell_type": "code",
   "execution_count": 225,
   "id": "08c16328",
   "metadata": {},
   "outputs": [],
   "source": [
    "import torch\n",
    "import torch.nn as nn\n",
    "import numpy as np\n",
    "from torch.nn import CrossEntropyLoss\n",
    "import torch.optim as optim\n",
    "import pandas as pd\n",
    "from torch.utils.data import TensorDataset, Dataset\n",
    "from torch.utils.data import DataLoader\n",
    "import matplotlib.pyplot as plt\n",
    "import torch.nn.functional as F\n"
   ]
  },
  {
   "cell_type": "code",
   "execution_count": null,
   "id": "64d35338",
   "metadata": {},
   "outputs": [],
   "source": [
    "# Khởi tạo Tensor\n",
    "# Từ mảng \n",
    "data = [[1,2], [3,4]]\n",
    "# Từ numpy array\n",
    "data = np.array(([1,2], [3,4]), dtype=float)\n",
    "x_data = torch.tensor(data)\n",
    "print(x_data)\n",
    "print()\n",
    "shape = (2,3,)\n",
    "rand_tensor = torch.rand(shape)\n",
    "ones_tensor = torch.ones(shape)\n",
    "zeros_tensor = torch.zeros(shape)\n",
    "print(rand_tensor)\n",
    "print(ones_tensor)\n",
    "print(zeros_tensor)"
   ]
  },
  {
   "cell_type": "code",
   "execution_count": null,
   "id": "b6128df7",
   "metadata": {},
   "outputs": [],
   "source": [
    "# Thông số của Tensor\n",
    "tensor = torch.rand((3,4))\n",
    "\n",
    "print(tensor.shape)\n",
    "print(tensor.dtype)\n",
    "print(tensor.device)\n"
   ]
  },
  {
   "cell_type": "code",
   "execution_count": null,
   "id": "d5250713",
   "metadata": {},
   "outputs": [],
   "source": [
    "# Phép toán với Tensor\n",
    "\n",
    "device = 'cuda' if torch.cuda.is_available() else 'cpu'\n",
    "tensor = tensor.to(device)\n",
    "print(tensor.device)\n",
    "\n",
    "# Chuyển từ numpy sang torch\n",
    "\n",
    "n = np.ones(5)\n",
    "t = torch.from_numpy(n)\n",
    "\n",
    "# Chuyển từ torch sang numpy\n",
    "\n",
    "t = torch.ones(5)\n",
    "n = t.numpy()"
   ]
  },
  {
   "cell_type": "markdown",
   "id": "e60bbdf9",
   "metadata": {},
   "source": [
    "# torch.autograd\n",
    "\n",
    "Mạng NN là tập hợp các hàm lồng nhau để thực thi 1 tập input\n",
    "Các hàm này được xác định bởi weights và bias - trọng số\n",
    "Các trọng số được lưu dứoi dạng Tensor\n",
    "\n",
    "Forward: Dự đoán kết quả đầu ra. Input -> L1 -> ... -> Output\n",
    "\n",
    "Backward: Điều chỉnh trọng số ứng với sai số trong dự đoán\n",
    "Duyệt ngược từ đầu ra, thu thập đạo hàm của sai số theo gradient, tối ưu hoá bằng giảm gradient"
   ]
  },
  {
   "cell_type": "code",
   "execution_count": null,
   "id": "329d86b9",
   "metadata": {},
   "outputs": [],
   "source": [
    "# Activation Function\n",
    "\n",
    "model = nn.Sequential(\n",
    "    nn.Linear(10, 18),\n",
    "    nn.Linear(18, 20),\n",
    "    nn.Linear(20, 5),\n",
    "    nn.Softmax(dim=-1)\n",
    ")\n",
    "\n",
    "a = torch.rand(10).reshape(-1,10)\n",
    "output = model(a)\n",
    "print(output)\n"
   ]
  },
  {
   "cell_type": "markdown",
   "id": "1b82d0ec",
   "metadata": {},
   "source": [
    "# Các bài toán phân loại đơn giản"
   ]
  },
  {
   "cell_type": "code",
   "execution_count": null,
   "id": "bda5f6b1",
   "metadata": {},
   "outputs": [],
   "source": [
    "# Binary Classification\n",
    "\n",
    "input_data = torch.tensor(\n",
    "    np.random.rand(5,6), dtype= torch.float\n",
    ")\n",
    "print(f'input data: ', input_data)\n",
    "print()\n",
    "\n",
    "model = nn.Sequential(\n",
    "    nn.Linear(6,4),\n",
    "    nn.Linear(4,1),\n",
    "    nn.Sigmoid()\n",
    ")\n",
    "\n",
    "output = model(input_data)\n",
    "print(f'output: ', output)\n",
    "# five probs [0, 1] for 5 animals\n",
    "# class = 1 mammals, class = 0 not mammals"
   ]
  },
  {
   "cell_type": "code",
   "execution_count": null,
   "id": "7a72c1ad",
   "metadata": {},
   "outputs": [],
   "source": [
    "# Multi-class classification\n",
    "\n",
    "n_classes = 3\n",
    "model = nn.Sequential(\n",
    "    nn.Linear(6,4),\n",
    "    nn.Linear(4,n_classes),\n",
    "    nn.Softmax(-1)\n",
    ")\n",
    "\n",
    "output = model(input_data)\n",
    "print(f'output: ', [torch.argmax(i) for i in output])\n",
    "print(f'output: ', output)"
   ]
  },
  {
   "cell_type": "code",
   "execution_count": null,
   "id": "ca64e949",
   "metadata": {},
   "outputs": [],
   "source": [
    "# Regression\n",
    "model = nn.Sequential(\n",
    "    nn.Linear(6, 4), # First linear layer\n",
    "    nn.Linear(4, 1) # Second linear layer\n",
    ")\n",
    "\n",
    "output = model(input_data)\n",
    "print(output)"
   ]
  },
  {
   "cell_type": "markdown",
   "id": "161d0076",
   "metadata": {},
   "source": [
    "# Sử dụng Loss function"
   ]
  },
  {
   "cell_type": "code",
   "execution_count": null,
   "id": "ba3b7370",
   "metadata": {},
   "outputs": [],
   "source": [
    "\n",
    "# # CrossEntropyLoss\n",
    "\n",
    "loss = CrossEntropyLoss(output, input_data)\n",
    "print(loss)\n",
    "\n",
    "loss.backward()\n"
   ]
  },
  {
   "cell_type": "markdown",
   "id": "3415a1df",
   "metadata": {},
   "source": [
    "# Lan truyền ngược"
   ]
  },
  {
   "cell_type": "code",
   "execution_count": null,
   "id": "0d238224",
   "metadata": {},
   "outputs": [],
   "source": [
    "\n",
    "\n",
    "optimizer = optim.SGD(model.parameters(), lr=0.001)\n",
    "\n",
    "# Perform parameters updates\n",
    "\n",
    "optimizer.step()\n"
   ]
  },
  {
   "cell_type": "markdown",
   "id": "894458fc",
   "metadata": {},
   "source": [
    "# Load data"
   ]
  },
  {
   "cell_type": "code",
   "execution_count": null,
   "id": "deb79ae0",
   "metadata": {},
   "outputs": [],
   "source": [
    "import torch\n",
    "from torch.utils.data import TensorDataset\n",
    "\n",
    "np.random.seed(42)\n",
    "\n",
    "X = np.random.uniform(low=0, high=2, size=(5,5)).astype(int)\n",
    "X1 = (np.random.uniform(low=1,high=3,size=(5,1))).astype(int) * 2\n",
    "X2 = np.random.uniform(low=0, high=2, size=(5,2)).astype(int)\n",
    "\n",
    "X = np.concatenate((X,X1), axis=1)\n",
    "X = np.concatenate((X,X2), axis=1)\n",
    "print(X)\n",
    "\n",
    "Y = [0, 0, 1, 1, 2]\n",
    "print(Y)\n",
    "\n",
    "\n",
    "dataset = TensorDataset(torch.tensor(X), torch.tensor(Y))\n",
    "input_sample, label_sample = dataset[0]\n",
    "print(f'input_sample: ', input_sample)\n",
    "print(f'label_sample: ', label_sample)"
   ]
  },
  {
   "cell_type": "code",
   "execution_count": null,
   "id": "66916c9f",
   "metadata": {},
   "outputs": [],
   "source": [
    "from torch.utils.data import DataLoader\n",
    "batch_size = 2\n",
    "shuffle = True\n",
    "dataloader = DataLoader(dataset, batch_size=batch_size,shuffle=shuffle)\n",
    "\n",
    "for batch_inputs, batch_labels in dataloader:\n",
    "    print(f'batch_inputs: ', batch_inputs)\n",
    "    print(f'batch_lables: ', batch_labels)"
   ]
  },
  {
   "cell_type": "markdown",
   "id": "ebc05ad1",
   "metadata": {},
   "source": [
    "# Khởi tạo Layer"
   ]
  },
  {
   "cell_type": "code",
   "execution_count": null,
   "id": "7b320a2d",
   "metadata": {},
   "outputs": [],
   "source": [
    "# Khởi tạo Layer bình thường\n",
    "layer = nn.Linear(64,128)\n",
    "print(layer.weight.min(), layer.weight.max())\n",
    "\n",
    "# Khởi tạo Layer uniform\n",
    "layer = nn.Linear(64,128)\n",
    "nn.init.uniform_(layer.weight)\n",
    "\n",
    "print(layer.weight.min(), layer.weight.max())"
   ]
  },
  {
   "cell_type": "markdown",
   "id": "1d14a023",
   "metadata": {},
   "source": [
    "# Reuser Model đã học"
   ]
  },
  {
   "cell_type": "code",
   "execution_count": null,
   "id": "be19f391",
   "metadata": {},
   "outputs": [],
   "source": [
    "model = nn.Linear(5,12)\n",
    "# Lưu weight\n",
    "torch.save(model.state_dict(), 'model.pth')\n",
    "\n",
    "# Tạo cái vỏ mới\n",
    "new_model = nn.Linear(5,12)\n",
    "# Load weight\n",
    "new_model.load_state_dict(torch.load('model.pth', weights_only=True))\n",
    "\n",
    "print(torch.equal(new_model.weight, model.weight))\n",
    "print(torch.equal(new_model.bias, model.bias))"
   ]
  },
  {
   "cell_type": "markdown",
   "id": "494087d1",
   "metadata": {},
   "source": [
    "# Fine Tuning\n",
    "- Learning rate nhỏ\n",
    "- Đóng băng 1 vài layer\n",
    "- Đóng bằng layer gần input và fine-tune layer gần output"
   ]
  },
  {
   "cell_type": "code",
   "execution_count": null,
   "id": "25332cc4",
   "metadata": {},
   "outputs": [],
   "source": [
    "model = nn.Sequential(\n",
    "        nn.Linear(5, 10),\n",
    "        nn.Linear(10, 5))\n",
    "\n",
    "# Freeze weight layer 1\n",
    "for name, param in model.named_parameters():\n",
    "    if name == '0.weight':\n",
    "        param.requires_grad = False\n",
    "for name, param in model.named_parameters():\n",
    "    print(f\"{name}: requires_grad = {param.requires_grad}\")\n",
    "\n",
    "print()\n",
    "\n",
    "# Freeze layer 1\n",
    "for param in model[0].parameters():\n",
    "    param.requires_grad = False\n",
    "for name, param in model.named_parameters():\n",
    "    print(f\"{name}: requires_grad = {param.requires_grad}\")"
   ]
  },
  {
   "cell_type": "code",
   "execution_count": 168,
   "id": "365ecdef",
   "metadata": {},
   "outputs": [
    {
     "name": "stdout",
     "output_type": "stream",
     "text": [
      "True\n"
     ]
    }
   ],
   "source": [
    "model = nn.Sequential(nn.Linear(8 ,1))\n",
    "print(model[0].weight.requires_grad)"
   ]
  },
  {
   "cell_type": "markdown",
   "id": "4c384d05",
   "metadata": {},
   "source": [
    "# Giải quyết Exploding Gradient\n",
    "## Khởi tạo weight\n",
    "- ReLU/LeakyReLU/ELU: `nn.init.kaiming_uniform_`\n",
    "- Tanh/Sigmoid: `nn.init.xavier_uniform_`\n",
    "- Bias: `nn.init.zeros_(bias)`\n",
    "\n",
    "## Hàm kích hoạt tốt\n",
    "- `F.relu()`: Phổ thông, trả về 0 với value âm\n",
    "- `F.leaky_relu(x, 0.01)`: Trả về epsilon * value (tránh dead neurons)\n",
    "- **`F.elu(x)`**: Không trả về 0 với value âm, smooth function\n",
    "\n",
    "## Batch Normalization\n",
    "- Mục đích: Chuẩn hóa output qua từng lớp\n",
    "- Công thức: `value_zscore = (value - value.mean()) / value.std()`\n",
    "- Sau đó scale: `y = value.std() * value_zscore + value.mean()`\n",
    "- Pattern: `Linear → BatchNorm → Activation`\n",
    "\n",
    "\n",
    "## Gradient Clipping\n",
    "- torch.nn.utils.clip_grad_norm_(model.parameters(), max_norm=1.0)\n",
    "\n",
    "## Dropout Regularization\n",
    "- self.dropout = nn.Dropout(0.2)"
   ]
  },
  {
   "cell_type": "markdown",
   "id": "9e687213",
   "metadata": {},
   "source": [
    "# Sử dụng OOP để định nghĩa Dataset & Model"
   ]
  },
  {
   "cell_type": "code",
   "execution_count": 246,
   "id": "7ea5e573",
   "metadata": {},
   "outputs": [],
   "source": [
    "# Định nghĩa Dataset bằng OOP \n",
    "# Dataset + dữ liệu tensor thì dùng luôn TensorDataset cho nhanh\n",
    "# Không phải có 2 method len & getitem\n",
    "\n",
    "class WaterDataset(Dataset):\n",
    "    def __init__(self, csv_path):\n",
    "        super().__init__()\n",
    "        df = pd.read_csv(csv_path)\n",
    "        self.data = np.array(df, dtype=np.float32)\n",
    "\n",
    "\n",
    "    # Bắt buộc phải tự có 2 phương thức len & getitem\n",
    "    def __len__(self):\n",
    "        return self.data.shape[0]\n",
    "    \n",
    "    def __getitem__(self, idx):\n",
    "        features = self.data[idx, : -1]\n",
    "        label = self.data[idx, -1]\n",
    "        return features, label\n",
    "    \n",
    "\n",
    "train_dataset = WaterDataset(\n",
    "    'data/water_potability/water_train.csv'\n",
    ")\n",
    "\n",
    "test_dataset = WaterDataset(\n",
    "    'data/water_potability/water_test.csv'\n",
    ")\n",
    "train_dataloader = DataLoader(\n",
    "    train_dataset,\n",
    "    batch_size=2,\n",
    "    shuffle=True\n",
    ")\n",
    "\n",
    "test_dataloader = DataLoader(\n",
    "    train_dataset,\n",
    "    batch_size=2,\n",
    "    shuffle=False\n",
    ")\n",
    "\n",
    "# features, target = next(iter(train_dataloader))\n",
    "# print(features, target)"
   ]
  },
  {
   "cell_type": "code",
   "execution_count": null,
   "id": "9ae60e10",
   "metadata": {},
   "outputs": [],
   "source": [
    "# Định nghĩa Model bằng OOP\n",
    "\n",
    "class Net(nn.Module):\n",
    "    def __init__(self):\n",
    "        super().__init__()\n",
    "        self.fc1 = nn.Linear(9, 16, dtype=torch.float32)\n",
    "        self.fc2 = nn.Linear(16, 8, dtype=torch.float32)\n",
    "        self.fc3 = nn.Linear(8, 1, dtype=torch.float32)\n",
    "\n",
    "        self.bn1 = nn.BatchNorm1d(16)\n",
    "        self.bn2 = nn.BatchNorm1d(8)\n",
    "\n",
    "        self.dropout = nn.Dropout(0.2)\n",
    "\n",
    "        self.layer_init()\n",
    "\n",
    "    def forward(self, x):\n",
    "        # Layer 1: FC -> BN -> RELU -> DROPOUT\n",
    "        x = self.fc1(x)\n",
    "        x = self.bn1(x)\n",
    "        x = F.relu(x)\n",
    "        x = self.dropout(x)\n",
    "\n",
    "        # Layer 2: FC -> BN -> RELU -> DROPOUT\n",
    "        x = self.fc2(x)\n",
    "        x = self.bn2(x)\n",
    "        x = F.relu(x)\n",
    "        x = self.dropout(x)\n",
    "\n",
    "        x = F.sigmoid(self.fc3(x))\n",
    "\n",
    "        return x\n",
    "\n",
    "    def layer_init(self):\n",
    "        for layer in self.modules():\n",
    "            if isinstance(layer, nn.Linear):\n",
    "                nn.init.kaiming_uniform_(layer.weight)\n",
    "                nn.init.zeros_(layer.bias)\n",
    "\n",
    "\n",
    "net = Net()\n",
    "# for name, param in net.named_parameters():\n",
    "#     print(f\"{name}: min={param.min()}, max={param.max()}\")"
   ]
  },
  {
   "cell_type": "markdown",
   "id": "851e0d87",
   "metadata": {},
   "source": [
    "# Giải thích về 1 loại Optimizers\n",
    "**SGD**\n",
    "- Đơn giản, cho mô hình đơn giản\n",
    "- Hiếm dùng\n",
    "\n",
    "**Adaptive Gradient - Adagrad**\n",
    "- Thích hợp cho dữ liệu thưa (9 số 0 & 1 số 1)\n",
    "- Có thể giảm lr quá nhanh\n",
    "\n",
    "**Root Mean Square Propagation - RMSprop**\n",
    "- Update trọng số dựa trên kích thước của gradient lớp trước\n",
    "- Dùng khi: RNN, time series\n",
    "\n",
    "**Adam**\n",
    "- Hay spam thằng này\n",
    "- RMSprop + Momentum\n"
   ]
  }
 ],
 "metadata": {
  "kernelspec": {
   "display_name": "tf_env",
   "language": "python",
   "name": "python3"
  },
  "language_info": {
   "codemirror_mode": {
    "name": "ipython",
    "version": 3
   },
   "file_extension": ".py",
   "mimetype": "text/x-python",
   "name": "python",
   "nbconvert_exporter": "python",
   "pygments_lexer": "ipython3",
   "version": "3.9.18"
  }
 },
 "nbformat": 4,
 "nbformat_minor": 5
}
