{
 "cells": [
  {
   "cell_type": "code",
   "execution_count": 2,
   "id": "d41d2c11",
   "metadata": {},
   "outputs": [],
   "source": [
    "import torch\n",
    "import torch.nn as nn\n",
    "import torch.nn.functional as F\n",
    "import torch.optim as optim\n",
    "\n",
    "import gymnasium as gym\n",
    "\n",
    "import random\n",
    "import math\n",
    "import numpy as np\n",
    "\n",
    "from collections import deque"
   ]
  },
  {
   "cell_type": "code",
   "execution_count": 3,
   "id": "ed5fd192",
   "metadata": {},
   "outputs": [],
   "source": [
    "class QNetwork(nn.Module):\n",
    "    def __init__(self, state_dims, action_dims):\n",
    "        super().__init__()\n",
    "        self.fc1 = nn.Linear(state_dims, 64)\n",
    "        self.fc2 = nn.Linear(64, 64)\n",
    "        self.fc3 = nn.Linear(64, action_dims)\n",
    "\n",
    "    def forward(self, x):\n",
    "        x = F.relu(self.fc1(x))\n",
    "        x = F.relu(self.fc2(x))\n",
    "        return self.fc3(x)\n",
    "    \n",
    "q_network = QNetwork(8, 4)\n",
    "optimizer = optim.Adam(q_network.parameters(), lr=0.001)\n",
    "\n"
   ]
  },
  {
   "cell_type": "code",
   "execution_count": 4,
   "id": "977017bd",
   "metadata": {},
   "outputs": [],
   "source": [
    "env = gym.make(\"LunarLander-v2\")"
   ]
  },
  {
   "cell_type": "code",
   "execution_count": 5,
   "id": "360e0913",
   "metadata": {},
   "outputs": [],
   "source": [
    "# action = argmax_a Q_policy(s_t, a_t)\n",
    "\n",
    "def select_action(q_network, state):\n",
    "    state = torch.tensor(state, dtype = torch.float32)\n",
    "    q_values = q_network(state)\n",
    "    action = torch.argmax(q_values).item()\n",
    "    return action\n",
    "\n",
    "gamma = 0.99\n",
    "\n",
    "# Bellman eq.\n",
    "# Q_policy(s_t, a_t) = max_a_Q_policy_{s_t+1, a_t+1} + R(s_t+1, a_t+1)\n",
    "\n",
    "# loss = [ max_a_Q_policy_{s_t+1, a_t+1} + R(s_t+1, a_t+1) - Q_policy(s_t, a_t) ]^2\n",
    "def calculate_loss(q_network, state, action, reward, next_state,done):\n",
    "    state = torch.tensor(state, dtype=torch.float32)\n",
    "    next_state = torch.tensor(next_state, dtype=torch.float32)\n",
    "    reward = torch.tensor(reward, dtype=torch.float32)\n",
    "    done = torch.tensor(done, dtype=torch.float32)\n",
    "\n",
    "    q_values = q_network(state)\n",
    "\n",
    "    current_state_q_values = q_values[action]\n",
    "\n",
    "    next_state_q_values = q_network(next_state).max().detach()\n",
    "\n",
    "    target_q_values = reward + next_state_q_values * gamma * (1-done)\n",
    "\n",
    "    loss = nn.MSELoss()(current_state_q_values, target_q_values)\n",
    "\n",
    "    return loss\n",
    "\n"
   ]
  },
  {
   "cell_type": "code",
   "execution_count": 6,
   "id": "df72326b",
   "metadata": {},
   "outputs": [],
   "source": [
    "for i in range(1000):\n",
    "    state, info = env.reset()\n",
    "    done = False\n",
    "    step = 0\n",
    "    while not done:\n",
    "        step += 1\n",
    "        action = select_action(q_network, state)\n",
    "\n",
    "        next_state, reward, terminate, truncated, _ = env.step(action)\n",
    "\n",
    "        done = terminate or truncated\n",
    "\n",
    "        loss = calculate_loss(q_network, state, action, reward, next_state,done)\n",
    "\n",
    "        optimizer.zero_grad()\n",
    "\n",
    "        loss.backward()\n",
    "\n",
    "        optimizer.step()\n",
    "\n",
    "        state = next_state\n",
    "\n"
   ]
  }
 ],
 "metadata": {
  "kernelspec": {
   "display_name": "MovableAntenna",
   "language": "python",
   "name": "python3"
  },
  "language_info": {
   "codemirror_mode": {
    "name": "ipython",
    "version": 3
   },
   "file_extension": ".py",
   "mimetype": "text/x-python",
   "name": "python",
   "nbconvert_exporter": "python",
   "pygments_lexer": "ipython3",
   "version": "3.10.14"
  }
 },
 "nbformat": 4,
 "nbformat_minor": 5
}
